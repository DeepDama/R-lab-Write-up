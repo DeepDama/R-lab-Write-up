{
  "nbformat": 4,
  "nbformat_minor": 0,
  "metadata": {
    "colab": {
      "name": "R_Mini_Project_7.ipynb",
      "provenance": [],
      "collapsed_sections": [],
      "authorship_tag": "ABX9TyOfqYGksUM0UlRvkXIFdVS1",
      "include_colab_link": true
    },
    "kernelspec": {
      "name": "ir",
      "display_name": "R"
    },
    "language_info": {
      "name": "R"
    }
  },
  "cells": [
    {
      "cell_type": "markdown",
      "metadata": {
        "id": "view-in-github",
        "colab_type": "text"
      },
      "source": [
        "<a href=\"https://colab.research.google.com/github/DeepDama/R-lab-Write-up/blob/main/R_Mini_Project_7.ipynb\" target=\"_parent\"><img src=\"https://colab.research.google.com/assets/colab-badge.svg\" alt=\"Open In Colab\"/></a>"
      ]
    },
    {
      "cell_type": "code",
      "metadata": {
        "colab": {
          "base_uri": "https://localhost:8080/",
          "height": 1000
        },
        "id": "Mo_8yskyKmXJ",
        "outputId": "73dc011e-7c68-4bd2-d55d-c689edbb8b14"
      },
      "source": [
        "deep <- read.csv(\"http://archive.ics.uci.edu/ml/machine-learning-databases/00523/Exasens.csv\")\n",
        "deep"
      ],
      "execution_count": 5,
      "outputs": [
        {
          "output_type": "display_data",
          "data": {
            "text/plain": [
              "    Diagnosis ID    Imaginary.Part X            Real.Part X.1          Gender\n",
              "1                                                                      NA    \n",
              "2                   Min            Avg.         Min       Avg.         NA    \n",
              "3   COPD      301-4 -320.61        -300.5635307 -495.26   -464.1719907  1    \n",
              "4   COPD      302-3 -325.39        -314.7503595 -473.73   -469.2631404  0    \n",
              "5   COPD      303-3 -323           -317.4360556 -476.12   -471.8976667  1    \n",
              "6   COPD      304-4 -327.78        -317.3996698 -473.73   -468.856388   1    \n",
              "7   COPD      305-4 -325.39        -316.1557853 -478.52   -472.8697828  0    \n",
              "8   COPD      306-3 -327.78        -318.6775535 -507.23   -469.0241943  1    \n",
              "9   COPD      307-3 -330.18        -320.6174777 -473.73   -467.3618538  1    \n",
              "10  COPD      308                                                       1    \n",
              "11  COPD      309-4 -320.61        -307.5995856 -476.12   -470.1816328  1    \n",
              "12  COPD      310-4 -315.82        -300.104765  -473.73   -466.3786343  1    \n",
              "13  COPD      311-4 -320.61        -308.117898  -471.34   -466.13057    1    \n",
              "14  COPD      312-4 -318.21        -306.2530384 -471.34   -466.5250462  1    \n",
              "15  COPD      313-4 -315.82        -294.2698616 -471.34   -463.1934272  0    \n",
              "16  COPD      314-4 -313.43        -299.0552022 -521.58   -421.1894102  1    \n",
              "17  COPD      315-4 -311.04        -297.9901    -466.55   -428.9503667  0    \n",
              "18  COPD      316                                                       1    \n",
              "19  COPD      317                                                       1    \n",
              "20  COPD      318-4 -323           -293.0287817 -466.55   -431.9906508  1    \n",
              "21  COPD      319-4 -308.64        -294.366142  -468.95   -414.6756675  1    \n",
              "22  COPD      320-4 -325.39        -317.1295776 -473.73   -468.8069765  1    \n",
              "23  COPD      321-4 -323           -314.5167598 -502.44   -467.7786275  1    \n",
              "24  COPD      322-4 -228           -228         -442      -442          1    \n",
              "25  COPD      323-4 -225           -225         -443      -443          1    \n",
              "26  COPD      324                                                       1    \n",
              "27  COPD      325-4 -325.39        -315.61542   -471.34   -464.3431669  1    \n",
              "28  COPD      326-4 -323           -312.7602773 -504.83   -459.086955   0    \n",
              "29  COPD      327-4 -323           -314.3307253 -468.95   -465.8307169  0    \n",
              "30  COPD      328-7 -325.39        -313.0142361 -473.73   -471.0419613  1    \n",
              "⋮   ⋮         ⋮     ⋮              ⋮            ⋮         ⋮            ⋮     \n",
              "372 Infected  151-4 -327.78        -319.305447  -476.12   -471.7769183 1     \n",
              "373 Infected  I152                                                     0     \n",
              "374 Infected  I153                                                     1     \n",
              "375 Infected  I154                                                     1     \n",
              "376 Infected  I155                                                     0     \n",
              "377 Infected  I156                                                     0     \n",
              "378 Infected  157-3 -327.78        -318.0684986 -473.73   -457.0464645 0     \n",
              "379 Infected  I158                                                     1     \n",
              "380 Infected  I159                                                     1     \n",
              "381 Infected  I160                                                     0     \n",
              "382 Infected  I161                                                     0     \n",
              "383 Infected  I162                                                     1     \n",
              "384 Infected  I163                                                     0     \n",
              "385 Infected  I164                                                     1     \n",
              "386 Infected  I165                                                     0     \n",
              "387 Infected  I166                                                     1     \n",
              "388 Infected  I167                                                     0     \n",
              "389 Infected  I168                                                     0     \n",
              "390 Infected  I169                                                     1     \n",
              "391 Infected  I170                                                     0     \n",
              "392 Infected  I171                                                     0     \n",
              "393 Infected  I172                                                     0     \n",
              "394 Infected  I173                                                     1     \n",
              "395 Infected  I174                                                     0     \n",
              "396 Infected  I175                                                     0     \n",
              "397 Infected  I176                                                     0     \n",
              "398 Infected  I177                                                     0     \n",
              "399 Infected  I178                                                     0     \n",
              "400 Infected  I179                                                     1     \n",
              "401 Infected  I180                                                     0     \n",
              "    Age Smoking X.2 X.3 X.4      X.5            \n",
              "1   NA  NA      NA  NA                          \n",
              "2   NA  NA      NA  NA  Gender   Somking        \n",
              "3   77   2      NA  NA  Male=1   Non-smoker=1   \n",
              "4   72   2      NA  NA  Female=0 Ex-smoker=2    \n",
              "5   73   3      NA  NA           Active-smoker=3\n",
              "6   76   2      NA  NA                          \n",
              "7   65   2      NA  NA                          \n",
              "8   60   2      NA  NA                          \n",
              "9   76   2      NA  NA                          \n",
              "10  77   2      NA  NA                          \n",
              "11  74   2      NA  NA                          \n",
              "12  67   2      NA  NA                          \n",
              "13  65   2      NA  NA                          \n",
              "14  75   2      NA  NA                          \n",
              "15  56   2      NA  NA                          \n",
              "16  75   2      NA  NA                          \n",
              "17  65   2      NA  NA                          \n",
              "18  45   2      NA  NA                          \n",
              "19  69   2      NA  NA                          \n",
              "20  93   2      NA  NA                          \n",
              "21  70   2      NA  NA                          \n",
              "22  75   2      NA  NA                          \n",
              "23  75   2      NA  NA                          \n",
              "24  75   2      NA  NA                          \n",
              "25  75   2      NA  NA                          \n",
              "26  64   2      NA  NA                          \n",
              "27  69   2      NA  NA                          \n",
              "28  84   2      NA  NA                          \n",
              "29  49   2      NA  NA                          \n",
              "30  72   2      NA  NA                          \n",
              "⋮   ⋮   ⋮       ⋮   ⋮   ⋮        ⋮              \n",
              "372 43  1       NA  NA                          \n",
              "373 39  1       NA  NA                          \n",
              "374 29  1       NA  NA                          \n",
              "375 39  2       NA  NA                          \n",
              "376 53  1       NA  NA                          \n",
              "377 25  1       NA  NA                          \n",
              "378 25  2       NA  NA                          \n",
              "379 49  2       NA  NA                          \n",
              "380 29  1       NA  NA                          \n",
              "381 21  3       NA  NA                          \n",
              "382 45  2       NA  NA                          \n",
              "383 30  2       NA  NA                          \n",
              "384 28  3       NA  NA                          \n",
              "385 51  2       NA  NA                          \n",
              "386 35  1       NA  NA                          \n",
              "387 37  1       NA  NA                          \n",
              "388 40  2       NA  NA                          \n",
              "389 39  1       NA  NA                          \n",
              "390 19  3       NA  NA                          \n",
              "391 22  1       NA  NA                          \n",
              "392 41  2       NA  NA                          \n",
              "393 25  1       NA  NA                          \n",
              "394 27  1       NA  NA                          \n",
              "395 56  3       NA  NA                          \n",
              "396 46  1       NA  NA                          \n",
              "397 49  2       NA  NA                          \n",
              "398 37  1       NA  NA                          \n",
              "399 29  1       NA  NA                          \n",
              "400 51  1       NA  NA                          \n",
              "401 40  1       NA  NA                          "
            ],
            "text/latex": "A data.frame: 401 × 13\n\\begin{tabular}{lllllllllllll}\n Diagnosis & ID & Imaginary.Part & X & Real.Part & X.1 & Gender & Age & Smoking & X.2 & X.3 & X.4 & X.5\\\\\n <chr> & <chr> & <chr> & <chr> & <chr> & <chr> & <int> & <int> & <int> & <lgl> & <lgl> & <chr> & <chr>\\\\\n\\hline\n\t      &       &         &              &         &              & NA & NA & NA & NA & NA &          &                \\\\\n\t      &       & Min     & Avg.         & Min     & Avg.         & NA & NA & NA & NA & NA & Gender   & Somking        \\\\\n\t COPD & 301-4 & -320.61 & -300.5635307 & -495.26 & -464.1719907 &  1 & 77 &  2 & NA & NA & Male=1   & Non-smoker=1   \\\\\n\t COPD & 302-3 & -325.39 & -314.7503595 & -473.73 & -469.2631404 &  0 & 72 &  2 & NA & NA & Female=0 & Ex-smoker=2    \\\\\n\t COPD & 303-3 & -323    & -317.4360556 & -476.12 & -471.8976667 &  1 & 73 &  3 & NA & NA &          & Active-smoker=3\\\\\n\t COPD & 304-4 & -327.78 & -317.3996698 & -473.73 & -468.856388  &  1 & 76 &  2 & NA & NA &          &                \\\\\n\t COPD & 305-4 & -325.39 & -316.1557853 & -478.52 & -472.8697828 &  0 & 65 &  2 & NA & NA &          &                \\\\\n\t COPD & 306-3 & -327.78 & -318.6775535 & -507.23 & -469.0241943 &  1 & 60 &  2 & NA & NA &          &                \\\\\n\t COPD & 307-3 & -330.18 & -320.6174777 & -473.73 & -467.3618538 &  1 & 76 &  2 & NA & NA &          &                \\\\\n\t COPD & 308   &         &              &         &              &  1 & 77 &  2 & NA & NA &          &                \\\\\n\t COPD & 309-4 & -320.61 & -307.5995856 & -476.12 & -470.1816328 &  1 & 74 &  2 & NA & NA &          &                \\\\\n\t COPD & 310-4 & -315.82 & -300.104765  & -473.73 & -466.3786343 &  1 & 67 &  2 & NA & NA &          &                \\\\\n\t COPD & 311-4 & -320.61 & -308.117898  & -471.34 & -466.13057   &  1 & 65 &  2 & NA & NA &          &                \\\\\n\t COPD & 312-4 & -318.21 & -306.2530384 & -471.34 & -466.5250462 &  1 & 75 &  2 & NA & NA &          &                \\\\\n\t COPD & 313-4 & -315.82 & -294.2698616 & -471.34 & -463.1934272 &  0 & 56 &  2 & NA & NA &          &                \\\\\n\t COPD & 314-4 & -313.43 & -299.0552022 & -521.58 & -421.1894102 &  1 & 75 &  2 & NA & NA &          &                \\\\\n\t COPD & 315-4 & -311.04 & -297.9901    & -466.55 & -428.9503667 &  0 & 65 &  2 & NA & NA &          &                \\\\\n\t COPD & 316   &         &              &         &              &  1 & 45 &  2 & NA & NA &          &                \\\\\n\t COPD & 317   &         &              &         &              &  1 & 69 &  2 & NA & NA &          &                \\\\\n\t COPD & 318-4 & -323    & -293.0287817 & -466.55 & -431.9906508 &  1 & 93 &  2 & NA & NA &          &                \\\\\n\t COPD & 319-4 & -308.64 & -294.366142  & -468.95 & -414.6756675 &  1 & 70 &  2 & NA & NA &          &                \\\\\n\t COPD & 320-4 & -325.39 & -317.1295776 & -473.73 & -468.8069765 &  1 & 75 &  2 & NA & NA &          &                \\\\\n\t COPD & 321-4 & -323    & -314.5167598 & -502.44 & -467.7786275 &  1 & 75 &  2 & NA & NA &          &                \\\\\n\t COPD & 322-4 & -228    & -228         & -442    & -442         &  1 & 75 &  2 & NA & NA &          &                \\\\\n\t COPD & 323-4 & -225    & -225         & -443    & -443         &  1 & 75 &  2 & NA & NA &          &                \\\\\n\t COPD & 324   &         &              &         &              &  1 & 64 &  2 & NA & NA &          &                \\\\\n\t COPD & 325-4 & -325.39 & -315.61542   & -471.34 & -464.3431669 &  1 & 69 &  2 & NA & NA &          &                \\\\\n\t COPD & 326-4 & -323    & -312.7602773 & -504.83 & -459.086955  &  0 & 84 &  2 & NA & NA &          &                \\\\\n\t COPD & 327-4 & -323    & -314.3307253 & -468.95 & -465.8307169 &  0 & 49 &  2 & NA & NA &          &                \\\\\n\t COPD & 328-7 & -325.39 & -313.0142361 & -473.73 & -471.0419613 &  1 & 72 &  2 & NA & NA &          &                \\\\\n\t ⋮ & ⋮ & ⋮ & ⋮ & ⋮ & ⋮ & ⋮ & ⋮ & ⋮ & ⋮ & ⋮ & ⋮ & ⋮\\\\\n\t Infected & 151-4 & -327.78 & -319.305447  & -476.12 & -471.7769183 & 1 & 43 & 1 & NA & NA &  & \\\\\n\t Infected & I152  &         &              &         &              & 0 & 39 & 1 & NA & NA &  & \\\\\n\t Infected & I153  &         &              &         &              & 1 & 29 & 1 & NA & NA &  & \\\\\n\t Infected & I154  &         &              &         &              & 1 & 39 & 2 & NA & NA &  & \\\\\n\t Infected & I155  &         &              &         &              & 0 & 53 & 1 & NA & NA &  & \\\\\n\t Infected & I156  &         &              &         &              & 0 & 25 & 1 & NA & NA &  & \\\\\n\t Infected & 157-3 & -327.78 & -318.0684986 & -473.73 & -457.0464645 & 0 & 25 & 2 & NA & NA &  & \\\\\n\t Infected & I158  &         &              &         &              & 1 & 49 & 2 & NA & NA &  & \\\\\n\t Infected & I159  &         &              &         &              & 1 & 29 & 1 & NA & NA &  & \\\\\n\t Infected & I160  &         &              &         &              & 0 & 21 & 3 & NA & NA &  & \\\\\n\t Infected & I161  &         &              &         &              & 0 & 45 & 2 & NA & NA &  & \\\\\n\t Infected & I162  &         &              &         &              & 1 & 30 & 2 & NA & NA &  & \\\\\n\t Infected & I163  &         &              &         &              & 0 & 28 & 3 & NA & NA &  & \\\\\n\t Infected & I164  &         &              &         &              & 1 & 51 & 2 & NA & NA &  & \\\\\n\t Infected & I165  &         &              &         &              & 0 & 35 & 1 & NA & NA &  & \\\\\n\t Infected & I166  &         &              &         &              & 1 & 37 & 1 & NA & NA &  & \\\\\n\t Infected & I167  &         &              &         &              & 0 & 40 & 2 & NA & NA &  & \\\\\n\t Infected & I168  &         &              &         &              & 0 & 39 & 1 & NA & NA &  & \\\\\n\t Infected & I169  &         &              &         &              & 1 & 19 & 3 & NA & NA &  & \\\\\n\t Infected & I170  &         &              &         &              & 0 & 22 & 1 & NA & NA &  & \\\\\n\t Infected & I171  &         &              &         &              & 0 & 41 & 2 & NA & NA &  & \\\\\n\t Infected & I172  &         &              &         &              & 0 & 25 & 1 & NA & NA &  & \\\\\n\t Infected & I173  &         &              &         &              & 1 & 27 & 1 & NA & NA &  & \\\\\n\t Infected & I174  &         &              &         &              & 0 & 56 & 3 & NA & NA &  & \\\\\n\t Infected & I175  &         &              &         &              & 0 & 46 & 1 & NA & NA &  & \\\\\n\t Infected & I176  &         &              &         &              & 0 & 49 & 2 & NA & NA &  & \\\\\n\t Infected & I177  &         &              &         &              & 0 & 37 & 1 & NA & NA &  & \\\\\n\t Infected & I178  &         &              &         &              & 0 & 29 & 1 & NA & NA &  & \\\\\n\t Infected & I179  &         &              &         &              & 1 & 51 & 1 & NA & NA &  & \\\\\n\t Infected & I180  &         &              &         &              & 0 & 40 & 1 & NA & NA &  & \\\\\n\\end{tabular}\n",
            "text/markdown": "\nA data.frame: 401 × 13\n\n| Diagnosis &lt;chr&gt; | ID &lt;chr&gt; | Imaginary.Part &lt;chr&gt; | X &lt;chr&gt; | Real.Part &lt;chr&gt; | X.1 &lt;chr&gt; | Gender &lt;int&gt; | Age &lt;int&gt; | Smoking &lt;int&gt; | X.2 &lt;lgl&gt; | X.3 &lt;lgl&gt; | X.4 &lt;chr&gt; | X.5 &lt;chr&gt; |\n|---|---|---|---|---|---|---|---|---|---|---|---|---|\n| <!----> | <!----> | <!----> | <!----> | <!----> | <!----> | NA | NA | NA | NA | NA | <!----> | <!----> |\n| <!----> | <!----> | Min     | Avg.         | Min     | Avg.         | NA | NA | NA | NA | NA | Gender   | Somking         |\n| COPD | 301-4 | -320.61 | -300.5635307 | -495.26 | -464.1719907 |  1 | 77 |  2 | NA | NA | Male=1   | Non-smoker=1    |\n| COPD | 302-3 | -325.39 | -314.7503595 | -473.73 | -469.2631404 |  0 | 72 |  2 | NA | NA | Female=0 | Ex-smoker=2     |\n| COPD | 303-3 | -323    | -317.4360556 | -476.12 | -471.8976667 |  1 | 73 |  3 | NA | NA | <!----> | Active-smoker=3 |\n| COPD | 304-4 | -327.78 | -317.3996698 | -473.73 | -468.856388  |  1 | 76 |  2 | NA | NA | <!----> | <!----> |\n| COPD | 305-4 | -325.39 | -316.1557853 | -478.52 | -472.8697828 |  0 | 65 |  2 | NA | NA | <!----> | <!----> |\n| COPD | 306-3 | -327.78 | -318.6775535 | -507.23 | -469.0241943 |  1 | 60 |  2 | NA | NA | <!----> | <!----> |\n| COPD | 307-3 | -330.18 | -320.6174777 | -473.73 | -467.3618538 |  1 | 76 |  2 | NA | NA | <!----> | <!----> |\n| COPD | 308   | <!----> | <!----> | <!----> | <!----> |  1 | 77 |  2 | NA | NA | <!----> | <!----> |\n| COPD | 309-4 | -320.61 | -307.5995856 | -476.12 | -470.1816328 |  1 | 74 |  2 | NA | NA | <!----> | <!----> |\n| COPD | 310-4 | -315.82 | -300.104765  | -473.73 | -466.3786343 |  1 | 67 |  2 | NA | NA | <!----> | <!----> |\n| COPD | 311-4 | -320.61 | -308.117898  | -471.34 | -466.13057   |  1 | 65 |  2 | NA | NA | <!----> | <!----> |\n| COPD | 312-4 | -318.21 | -306.2530384 | -471.34 | -466.5250462 |  1 | 75 |  2 | NA | NA | <!----> | <!----> |\n| COPD | 313-4 | -315.82 | -294.2698616 | -471.34 | -463.1934272 |  0 | 56 |  2 | NA | NA | <!----> | <!----> |\n| COPD | 314-4 | -313.43 | -299.0552022 | -521.58 | -421.1894102 |  1 | 75 |  2 | NA | NA | <!----> | <!----> |\n| COPD | 315-4 | -311.04 | -297.9901    | -466.55 | -428.9503667 |  0 | 65 |  2 | NA | NA | <!----> | <!----> |\n| COPD | 316   | <!----> | <!----> | <!----> | <!----> |  1 | 45 |  2 | NA | NA | <!----> | <!----> |\n| COPD | 317   | <!----> | <!----> | <!----> | <!----> |  1 | 69 |  2 | NA | NA | <!----> | <!----> |\n| COPD | 318-4 | -323    | -293.0287817 | -466.55 | -431.9906508 |  1 | 93 |  2 | NA | NA | <!----> | <!----> |\n| COPD | 319-4 | -308.64 | -294.366142  | -468.95 | -414.6756675 |  1 | 70 |  2 | NA | NA | <!----> | <!----> |\n| COPD | 320-4 | -325.39 | -317.1295776 | -473.73 | -468.8069765 |  1 | 75 |  2 | NA | NA | <!----> | <!----> |\n| COPD | 321-4 | -323    | -314.5167598 | -502.44 | -467.7786275 |  1 | 75 |  2 | NA | NA | <!----> | <!----> |\n| COPD | 322-4 | -228    | -228         | -442    | -442         |  1 | 75 |  2 | NA | NA | <!----> | <!----> |\n| COPD | 323-4 | -225    | -225         | -443    | -443         |  1 | 75 |  2 | NA | NA | <!----> | <!----> |\n| COPD | 324   | <!----> | <!----> | <!----> | <!----> |  1 | 64 |  2 | NA | NA | <!----> | <!----> |\n| COPD | 325-4 | -325.39 | -315.61542   | -471.34 | -464.3431669 |  1 | 69 |  2 | NA | NA | <!----> | <!----> |\n| COPD | 326-4 | -323    | -312.7602773 | -504.83 | -459.086955  |  0 | 84 |  2 | NA | NA | <!----> | <!----> |\n| COPD | 327-4 | -323    | -314.3307253 | -468.95 | -465.8307169 |  0 | 49 |  2 | NA | NA | <!----> | <!----> |\n| COPD | 328-7 | -325.39 | -313.0142361 | -473.73 | -471.0419613 |  1 | 72 |  2 | NA | NA | <!----> | <!----> |\n| ⋮ | ⋮ | ⋮ | ⋮ | ⋮ | ⋮ | ⋮ | ⋮ | ⋮ | ⋮ | ⋮ | ⋮ | ⋮ |\n| Infected | 151-4 | -327.78 | -319.305447  | -476.12 | -471.7769183 | 1 | 43 | 1 | NA | NA | <!----> | <!----> |\n| Infected | I152  | <!----> | <!----> | <!----> | <!----> | 0 | 39 | 1 | NA | NA | <!----> | <!----> |\n| Infected | I153  | <!----> | <!----> | <!----> | <!----> | 1 | 29 | 1 | NA | NA | <!----> | <!----> |\n| Infected | I154  | <!----> | <!----> | <!----> | <!----> | 1 | 39 | 2 | NA | NA | <!----> | <!----> |\n| Infected | I155  | <!----> | <!----> | <!----> | <!----> | 0 | 53 | 1 | NA | NA | <!----> | <!----> |\n| Infected | I156  | <!----> | <!----> | <!----> | <!----> | 0 | 25 | 1 | NA | NA | <!----> | <!----> |\n| Infected | 157-3 | -327.78 | -318.0684986 | -473.73 | -457.0464645 | 0 | 25 | 2 | NA | NA | <!----> | <!----> |\n| Infected | I158  | <!----> | <!----> | <!----> | <!----> | 1 | 49 | 2 | NA | NA | <!----> | <!----> |\n| Infected | I159  | <!----> | <!----> | <!----> | <!----> | 1 | 29 | 1 | NA | NA | <!----> | <!----> |\n| Infected | I160  | <!----> | <!----> | <!----> | <!----> | 0 | 21 | 3 | NA | NA | <!----> | <!----> |\n| Infected | I161  | <!----> | <!----> | <!----> | <!----> | 0 | 45 | 2 | NA | NA | <!----> | <!----> |\n| Infected | I162  | <!----> | <!----> | <!----> | <!----> | 1 | 30 | 2 | NA | NA | <!----> | <!----> |\n| Infected | I163  | <!----> | <!----> | <!----> | <!----> | 0 | 28 | 3 | NA | NA | <!----> | <!----> |\n| Infected | I164  | <!----> | <!----> | <!----> | <!----> | 1 | 51 | 2 | NA | NA | <!----> | <!----> |\n| Infected | I165  | <!----> | <!----> | <!----> | <!----> | 0 | 35 | 1 | NA | NA | <!----> | <!----> |\n| Infected | I166  | <!----> | <!----> | <!----> | <!----> | 1 | 37 | 1 | NA | NA | <!----> | <!----> |\n| Infected | I167  | <!----> | <!----> | <!----> | <!----> | 0 | 40 | 2 | NA | NA | <!----> | <!----> |\n| Infected | I168  | <!----> | <!----> | <!----> | <!----> | 0 | 39 | 1 | NA | NA | <!----> | <!----> |\n| Infected | I169  | <!----> | <!----> | <!----> | <!----> | 1 | 19 | 3 | NA | NA | <!----> | <!----> |\n| Infected | I170  | <!----> | <!----> | <!----> | <!----> | 0 | 22 | 1 | NA | NA | <!----> | <!----> |\n| Infected | I171  | <!----> | <!----> | <!----> | <!----> | 0 | 41 | 2 | NA | NA | <!----> | <!----> |\n| Infected | I172  | <!----> | <!----> | <!----> | <!----> | 0 | 25 | 1 | NA | NA | <!----> | <!----> |\n| Infected | I173  | <!----> | <!----> | <!----> | <!----> | 1 | 27 | 1 | NA | NA | <!----> | <!----> |\n| Infected | I174  | <!----> | <!----> | <!----> | <!----> | 0 | 56 | 3 | NA | NA | <!----> | <!----> |\n| Infected | I175  | <!----> | <!----> | <!----> | <!----> | 0 | 46 | 1 | NA | NA | <!----> | <!----> |\n| Infected | I176  | <!----> | <!----> | <!----> | <!----> | 0 | 49 | 2 | NA | NA | <!----> | <!----> |\n| Infected | I177  | <!----> | <!----> | <!----> | <!----> | 0 | 37 | 1 | NA | NA | <!----> | <!----> |\n| Infected | I178  | <!----> | <!----> | <!----> | <!----> | 0 | 29 | 1 | NA | NA | <!----> | <!----> |\n| Infected | I179  | <!----> | <!----> | <!----> | <!----> | 1 | 51 | 1 | NA | NA | <!----> | <!----> |\n| Infected | I180  | <!----> | <!----> | <!----> | <!----> | 0 | 40 | 1 | NA | NA | <!----> | <!----> |\n\n",
            "text/html": [
              "<table class=\"dataframe\">\n",
              "<caption>A data.frame: 401 × 13</caption>\n",
              "<thead>\n",
              "\t<tr><th scope=col>Diagnosis</th><th scope=col>ID</th><th scope=col>Imaginary.Part</th><th scope=col>X</th><th scope=col>Real.Part</th><th scope=col>X.1</th><th scope=col>Gender</th><th scope=col>Age</th><th scope=col>Smoking</th><th scope=col>X.2</th><th scope=col>X.3</th><th scope=col>X.4</th><th scope=col>X.5</th></tr>\n",
              "\t<tr><th scope=col>&lt;chr&gt;</th><th scope=col>&lt;chr&gt;</th><th scope=col>&lt;chr&gt;</th><th scope=col>&lt;chr&gt;</th><th scope=col>&lt;chr&gt;</th><th scope=col>&lt;chr&gt;</th><th scope=col>&lt;int&gt;</th><th scope=col>&lt;int&gt;</th><th scope=col>&lt;int&gt;</th><th scope=col>&lt;lgl&gt;</th><th scope=col>&lt;lgl&gt;</th><th scope=col>&lt;chr&gt;</th><th scope=col>&lt;chr&gt;</th></tr>\n",
              "</thead>\n",
              "<tbody>\n",
              "\t<tr><td>    </td><td>     </td><td>       </td><td>            </td><td>       </td><td>            </td><td>NA</td><td>NA</td><td>NA</td><td>NA</td><td>NA</td><td>        </td><td>               </td></tr>\n",
              "\t<tr><td>    </td><td>     </td><td>Min    </td><td>Avg.        </td><td>Min    </td><td>Avg.        </td><td>NA</td><td>NA</td><td>NA</td><td>NA</td><td>NA</td><td>Gender  </td><td>Somking        </td></tr>\n",
              "\t<tr><td>COPD</td><td>301-4</td><td>-320.61</td><td>-300.5635307</td><td>-495.26</td><td>-464.1719907</td><td> 1</td><td>77</td><td> 2</td><td>NA</td><td>NA</td><td>Male=1  </td><td>Non-smoker=1   </td></tr>\n",
              "\t<tr><td>COPD</td><td>302-3</td><td>-325.39</td><td>-314.7503595</td><td>-473.73</td><td>-469.2631404</td><td> 0</td><td>72</td><td> 2</td><td>NA</td><td>NA</td><td>Female=0</td><td>Ex-smoker=2    </td></tr>\n",
              "\t<tr><td>COPD</td><td>303-3</td><td>-323   </td><td>-317.4360556</td><td>-476.12</td><td>-471.8976667</td><td> 1</td><td>73</td><td> 3</td><td>NA</td><td>NA</td><td>        </td><td>Active-smoker=3</td></tr>\n",
              "\t<tr><td>COPD</td><td>304-4</td><td>-327.78</td><td>-317.3996698</td><td>-473.73</td><td>-468.856388 </td><td> 1</td><td>76</td><td> 2</td><td>NA</td><td>NA</td><td>        </td><td>               </td></tr>\n",
              "\t<tr><td>COPD</td><td>305-4</td><td>-325.39</td><td>-316.1557853</td><td>-478.52</td><td>-472.8697828</td><td> 0</td><td>65</td><td> 2</td><td>NA</td><td>NA</td><td>        </td><td>               </td></tr>\n",
              "\t<tr><td>COPD</td><td>306-3</td><td>-327.78</td><td>-318.6775535</td><td>-507.23</td><td>-469.0241943</td><td> 1</td><td>60</td><td> 2</td><td>NA</td><td>NA</td><td>        </td><td>               </td></tr>\n",
              "\t<tr><td>COPD</td><td>307-3</td><td>-330.18</td><td>-320.6174777</td><td>-473.73</td><td>-467.3618538</td><td> 1</td><td>76</td><td> 2</td><td>NA</td><td>NA</td><td>        </td><td>               </td></tr>\n",
              "\t<tr><td>COPD</td><td>308  </td><td>       </td><td>            </td><td>       </td><td>            </td><td> 1</td><td>77</td><td> 2</td><td>NA</td><td>NA</td><td>        </td><td>               </td></tr>\n",
              "\t<tr><td>COPD</td><td>309-4</td><td>-320.61</td><td>-307.5995856</td><td>-476.12</td><td>-470.1816328</td><td> 1</td><td>74</td><td> 2</td><td>NA</td><td>NA</td><td>        </td><td>               </td></tr>\n",
              "\t<tr><td>COPD</td><td>310-4</td><td>-315.82</td><td>-300.104765 </td><td>-473.73</td><td>-466.3786343</td><td> 1</td><td>67</td><td> 2</td><td>NA</td><td>NA</td><td>        </td><td>               </td></tr>\n",
              "\t<tr><td>COPD</td><td>311-4</td><td>-320.61</td><td>-308.117898 </td><td>-471.34</td><td>-466.13057  </td><td> 1</td><td>65</td><td> 2</td><td>NA</td><td>NA</td><td>        </td><td>               </td></tr>\n",
              "\t<tr><td>COPD</td><td>312-4</td><td>-318.21</td><td>-306.2530384</td><td>-471.34</td><td>-466.5250462</td><td> 1</td><td>75</td><td> 2</td><td>NA</td><td>NA</td><td>        </td><td>               </td></tr>\n",
              "\t<tr><td>COPD</td><td>313-4</td><td>-315.82</td><td>-294.2698616</td><td>-471.34</td><td>-463.1934272</td><td> 0</td><td>56</td><td> 2</td><td>NA</td><td>NA</td><td>        </td><td>               </td></tr>\n",
              "\t<tr><td>COPD</td><td>314-4</td><td>-313.43</td><td>-299.0552022</td><td>-521.58</td><td>-421.1894102</td><td> 1</td><td>75</td><td> 2</td><td>NA</td><td>NA</td><td>        </td><td>               </td></tr>\n",
              "\t<tr><td>COPD</td><td>315-4</td><td>-311.04</td><td>-297.9901   </td><td>-466.55</td><td>-428.9503667</td><td> 0</td><td>65</td><td> 2</td><td>NA</td><td>NA</td><td>        </td><td>               </td></tr>\n",
              "\t<tr><td>COPD</td><td>316  </td><td>       </td><td>            </td><td>       </td><td>            </td><td> 1</td><td>45</td><td> 2</td><td>NA</td><td>NA</td><td>        </td><td>               </td></tr>\n",
              "\t<tr><td>COPD</td><td>317  </td><td>       </td><td>            </td><td>       </td><td>            </td><td> 1</td><td>69</td><td> 2</td><td>NA</td><td>NA</td><td>        </td><td>               </td></tr>\n",
              "\t<tr><td>COPD</td><td>318-4</td><td>-323   </td><td>-293.0287817</td><td>-466.55</td><td>-431.9906508</td><td> 1</td><td>93</td><td> 2</td><td>NA</td><td>NA</td><td>        </td><td>               </td></tr>\n",
              "\t<tr><td>COPD</td><td>319-4</td><td>-308.64</td><td>-294.366142 </td><td>-468.95</td><td>-414.6756675</td><td> 1</td><td>70</td><td> 2</td><td>NA</td><td>NA</td><td>        </td><td>               </td></tr>\n",
              "\t<tr><td>COPD</td><td>320-4</td><td>-325.39</td><td>-317.1295776</td><td>-473.73</td><td>-468.8069765</td><td> 1</td><td>75</td><td> 2</td><td>NA</td><td>NA</td><td>        </td><td>               </td></tr>\n",
              "\t<tr><td>COPD</td><td>321-4</td><td>-323   </td><td>-314.5167598</td><td>-502.44</td><td>-467.7786275</td><td> 1</td><td>75</td><td> 2</td><td>NA</td><td>NA</td><td>        </td><td>               </td></tr>\n",
              "\t<tr><td>COPD</td><td>322-4</td><td>-228   </td><td>-228        </td><td>-442   </td><td>-442        </td><td> 1</td><td>75</td><td> 2</td><td>NA</td><td>NA</td><td>        </td><td>               </td></tr>\n",
              "\t<tr><td>COPD</td><td>323-4</td><td>-225   </td><td>-225        </td><td>-443   </td><td>-443        </td><td> 1</td><td>75</td><td> 2</td><td>NA</td><td>NA</td><td>        </td><td>               </td></tr>\n",
              "\t<tr><td>COPD</td><td>324  </td><td>       </td><td>            </td><td>       </td><td>            </td><td> 1</td><td>64</td><td> 2</td><td>NA</td><td>NA</td><td>        </td><td>               </td></tr>\n",
              "\t<tr><td>COPD</td><td>325-4</td><td>-325.39</td><td>-315.61542  </td><td>-471.34</td><td>-464.3431669</td><td> 1</td><td>69</td><td> 2</td><td>NA</td><td>NA</td><td>        </td><td>               </td></tr>\n",
              "\t<tr><td>COPD</td><td>326-4</td><td>-323   </td><td>-312.7602773</td><td>-504.83</td><td>-459.086955 </td><td> 0</td><td>84</td><td> 2</td><td>NA</td><td>NA</td><td>        </td><td>               </td></tr>\n",
              "\t<tr><td>COPD</td><td>327-4</td><td>-323   </td><td>-314.3307253</td><td>-468.95</td><td>-465.8307169</td><td> 0</td><td>49</td><td> 2</td><td>NA</td><td>NA</td><td>        </td><td>               </td></tr>\n",
              "\t<tr><td>COPD</td><td>328-7</td><td>-325.39</td><td>-313.0142361</td><td>-473.73</td><td>-471.0419613</td><td> 1</td><td>72</td><td> 2</td><td>NA</td><td>NA</td><td>        </td><td>               </td></tr>\n",
              "\t<tr><td>⋮</td><td>⋮</td><td>⋮</td><td>⋮</td><td>⋮</td><td>⋮</td><td>⋮</td><td>⋮</td><td>⋮</td><td>⋮</td><td>⋮</td><td>⋮</td><td>⋮</td></tr>\n",
              "\t<tr><td>Infected</td><td>151-4</td><td>-327.78</td><td>-319.305447 </td><td>-476.12</td><td>-471.7769183</td><td>1</td><td>43</td><td>1</td><td>NA</td><td>NA</td><td></td><td></td></tr>\n",
              "\t<tr><td>Infected</td><td>I152 </td><td>       </td><td>            </td><td>       </td><td>            </td><td>0</td><td>39</td><td>1</td><td>NA</td><td>NA</td><td></td><td></td></tr>\n",
              "\t<tr><td>Infected</td><td>I153 </td><td>       </td><td>            </td><td>       </td><td>            </td><td>1</td><td>29</td><td>1</td><td>NA</td><td>NA</td><td></td><td></td></tr>\n",
              "\t<tr><td>Infected</td><td>I154 </td><td>       </td><td>            </td><td>       </td><td>            </td><td>1</td><td>39</td><td>2</td><td>NA</td><td>NA</td><td></td><td></td></tr>\n",
              "\t<tr><td>Infected</td><td>I155 </td><td>       </td><td>            </td><td>       </td><td>            </td><td>0</td><td>53</td><td>1</td><td>NA</td><td>NA</td><td></td><td></td></tr>\n",
              "\t<tr><td>Infected</td><td>I156 </td><td>       </td><td>            </td><td>       </td><td>            </td><td>0</td><td>25</td><td>1</td><td>NA</td><td>NA</td><td></td><td></td></tr>\n",
              "\t<tr><td>Infected</td><td>157-3</td><td>-327.78</td><td>-318.0684986</td><td>-473.73</td><td>-457.0464645</td><td>0</td><td>25</td><td>2</td><td>NA</td><td>NA</td><td></td><td></td></tr>\n",
              "\t<tr><td>Infected</td><td>I158 </td><td>       </td><td>            </td><td>       </td><td>            </td><td>1</td><td>49</td><td>2</td><td>NA</td><td>NA</td><td></td><td></td></tr>\n",
              "\t<tr><td>Infected</td><td>I159 </td><td>       </td><td>            </td><td>       </td><td>            </td><td>1</td><td>29</td><td>1</td><td>NA</td><td>NA</td><td></td><td></td></tr>\n",
              "\t<tr><td>Infected</td><td>I160 </td><td>       </td><td>            </td><td>       </td><td>            </td><td>0</td><td>21</td><td>3</td><td>NA</td><td>NA</td><td></td><td></td></tr>\n",
              "\t<tr><td>Infected</td><td>I161 </td><td>       </td><td>            </td><td>       </td><td>            </td><td>0</td><td>45</td><td>2</td><td>NA</td><td>NA</td><td></td><td></td></tr>\n",
              "\t<tr><td>Infected</td><td>I162 </td><td>       </td><td>            </td><td>       </td><td>            </td><td>1</td><td>30</td><td>2</td><td>NA</td><td>NA</td><td></td><td></td></tr>\n",
              "\t<tr><td>Infected</td><td>I163 </td><td>       </td><td>            </td><td>       </td><td>            </td><td>0</td><td>28</td><td>3</td><td>NA</td><td>NA</td><td></td><td></td></tr>\n",
              "\t<tr><td>Infected</td><td>I164 </td><td>       </td><td>            </td><td>       </td><td>            </td><td>1</td><td>51</td><td>2</td><td>NA</td><td>NA</td><td></td><td></td></tr>\n",
              "\t<tr><td>Infected</td><td>I165 </td><td>       </td><td>            </td><td>       </td><td>            </td><td>0</td><td>35</td><td>1</td><td>NA</td><td>NA</td><td></td><td></td></tr>\n",
              "\t<tr><td>Infected</td><td>I166 </td><td>       </td><td>            </td><td>       </td><td>            </td><td>1</td><td>37</td><td>1</td><td>NA</td><td>NA</td><td></td><td></td></tr>\n",
              "\t<tr><td>Infected</td><td>I167 </td><td>       </td><td>            </td><td>       </td><td>            </td><td>0</td><td>40</td><td>2</td><td>NA</td><td>NA</td><td></td><td></td></tr>\n",
              "\t<tr><td>Infected</td><td>I168 </td><td>       </td><td>            </td><td>       </td><td>            </td><td>0</td><td>39</td><td>1</td><td>NA</td><td>NA</td><td></td><td></td></tr>\n",
              "\t<tr><td>Infected</td><td>I169 </td><td>       </td><td>            </td><td>       </td><td>            </td><td>1</td><td>19</td><td>3</td><td>NA</td><td>NA</td><td></td><td></td></tr>\n",
              "\t<tr><td>Infected</td><td>I170 </td><td>       </td><td>            </td><td>       </td><td>            </td><td>0</td><td>22</td><td>1</td><td>NA</td><td>NA</td><td></td><td></td></tr>\n",
              "\t<tr><td>Infected</td><td>I171 </td><td>       </td><td>            </td><td>       </td><td>            </td><td>0</td><td>41</td><td>2</td><td>NA</td><td>NA</td><td></td><td></td></tr>\n",
              "\t<tr><td>Infected</td><td>I172 </td><td>       </td><td>            </td><td>       </td><td>            </td><td>0</td><td>25</td><td>1</td><td>NA</td><td>NA</td><td></td><td></td></tr>\n",
              "\t<tr><td>Infected</td><td>I173 </td><td>       </td><td>            </td><td>       </td><td>            </td><td>1</td><td>27</td><td>1</td><td>NA</td><td>NA</td><td></td><td></td></tr>\n",
              "\t<tr><td>Infected</td><td>I174 </td><td>       </td><td>            </td><td>       </td><td>            </td><td>0</td><td>56</td><td>3</td><td>NA</td><td>NA</td><td></td><td></td></tr>\n",
              "\t<tr><td>Infected</td><td>I175 </td><td>       </td><td>            </td><td>       </td><td>            </td><td>0</td><td>46</td><td>1</td><td>NA</td><td>NA</td><td></td><td></td></tr>\n",
              "\t<tr><td>Infected</td><td>I176 </td><td>       </td><td>            </td><td>       </td><td>            </td><td>0</td><td>49</td><td>2</td><td>NA</td><td>NA</td><td></td><td></td></tr>\n",
              "\t<tr><td>Infected</td><td>I177 </td><td>       </td><td>            </td><td>       </td><td>            </td><td>0</td><td>37</td><td>1</td><td>NA</td><td>NA</td><td></td><td></td></tr>\n",
              "\t<tr><td>Infected</td><td>I178 </td><td>       </td><td>            </td><td>       </td><td>            </td><td>0</td><td>29</td><td>1</td><td>NA</td><td>NA</td><td></td><td></td></tr>\n",
              "\t<tr><td>Infected</td><td>I179 </td><td>       </td><td>            </td><td>       </td><td>            </td><td>1</td><td>51</td><td>1</td><td>NA</td><td>NA</td><td></td><td></td></tr>\n",
              "\t<tr><td>Infected</td><td>I180 </td><td>       </td><td>            </td><td>       </td><td>            </td><td>0</td><td>40</td><td>1</td><td>NA</td><td>NA</td><td></td><td></td></tr>\n",
              "</tbody>\n",
              "</table>\n"
            ]
          },
          "metadata": {
            "tags": []
          }
        }
      ]
    },
    {
      "cell_type": "code",
      "metadata": {
        "colab": {
          "base_uri": "https://localhost:8080/",
          "height": 561
        },
        "id": "TZp73wrlLo7j",
        "outputId": "e86a6f49-7264-460b-fc0d-c55543473138"
      },
      "source": [
        "#3(a)\n",
        "summary(deep)"
      ],
      "execution_count": 6,
      "outputs": [
        {
          "output_type": "display_data",
          "data": {
            "text/plain": [
              "  Diagnosis              ID            Imaginary.Part          X            \n",
              " Length:401         Length:401         Length:401         Length:401        \n",
              " Class :character   Class :character   Class :character   Class :character  \n",
              " Mode  :character   Mode  :character   Mode  :character   Mode  :character  \n",
              "                                                                            \n",
              "                                                                            \n",
              "                                                                            \n",
              "                                                                            \n",
              "  Real.Part             X.1                Gender            Age       \n",
              " Length:401         Length:401         Min.   :0.0000   Min.   :17.00  \n",
              " Class :character   Class :character   1st Qu.:0.0000   1st Qu.:31.00  \n",
              " Mode  :character   Mode  :character   Median :0.0000   Median :49.00  \n",
              "                                       Mean   :0.3985   Mean   :48.74  \n",
              "                                       3rd Qu.:1.0000   3rd Qu.:64.00  \n",
              "                                       Max.   :1.0000   Max.   :93.00  \n",
              "                                       NA's   :2        NA's   :2      \n",
              "    Smoking        X.2            X.3              X.4           \n",
              " Min.   :1.000   Mode:logical   Mode:logical   Length:401        \n",
              " 1st Qu.:1.000   NA's:401       NA's:401       Class :character  \n",
              " Median :2.000                                 Mode  :character  \n",
              " Mean   :1.727                                                   \n",
              " 3rd Qu.:2.000                                                   \n",
              " Max.   :3.000                                                   \n",
              " NA's   :2                                                       \n",
              "     X.5           \n",
              " Length:401        \n",
              " Class :character  \n",
              " Mode  :character  \n",
              "                   \n",
              "                   \n",
              "                   \n",
              "                   "
            ]
          },
          "metadata": {
            "tags": []
          }
        }
      ]
    },
    {
      "cell_type": "code",
      "metadata": {
        "colab": {
          "base_uri": "https://localhost:8080/",
          "height": 51
        },
        "id": "gadTTMgXMOKb",
        "outputId": "c5ce51e7-b751-4612-e347-1d023cbe32c7"
      },
      "source": [
        "#3(b)\n",
        "sapply(deep, class)"
      ],
      "execution_count": 7,
      "outputs": [
        {
          "output_type": "display_data",
          "data": {
            "text/plain": [
              "     Diagnosis             ID Imaginary.Part              X      Real.Part \n",
              "   \"character\"    \"character\"    \"character\"    \"character\"    \"character\" \n",
              "           X.1         Gender            Age        Smoking            X.2 \n",
              "   \"character\"      \"integer\"      \"integer\"      \"integer\"      \"logical\" \n",
              "           X.3            X.4            X.5 \n",
              "     \"logical\"    \"character\"    \"character\" "
            ],
            "text/latex": "\\begin{description*}\n\\item[Diagnosis] 'character'\n\\item[ID] 'character'\n\\item[Imaginary.Part] 'character'\n\\item[X] 'character'\n\\item[Real.Part] 'character'\n\\item[X.1] 'character'\n\\item[Gender] 'integer'\n\\item[Age] 'integer'\n\\item[Smoking] 'integer'\n\\item[X.2] 'logical'\n\\item[X.3] 'logical'\n\\item[X.4] 'character'\n\\item[X.5] 'character'\n\\end{description*}\n",
            "text/markdown": "Diagnosis\n:   'character'ID\n:   'character'Imaginary.Part\n:   'character'X\n:   'character'Real.Part\n:   'character'X.1\n:   'character'Gender\n:   'integer'Age\n:   'integer'Smoking\n:   'integer'X.2\n:   'logical'X.3\n:   'logical'X.4\n:   'character'X.5\n:   'character'\n\n",
            "text/html": [
              "<style>\n",
              ".dl-inline {width: auto; margin:0; padding: 0}\n",
              ".dl-inline>dt, .dl-inline>dd {float: none; width: auto; display: inline-block}\n",
              ".dl-inline>dt::after {content: \":\\0020\"; padding-right: .5ex}\n",
              ".dl-inline>dt:not(:first-of-type) {padding-left: .5ex}\n",
              "</style><dl class=dl-inline><dt>Diagnosis</dt><dd>'character'</dd><dt>ID</dt><dd>'character'</dd><dt>Imaginary.Part</dt><dd>'character'</dd><dt>X</dt><dd>'character'</dd><dt>Real.Part</dt><dd>'character'</dd><dt>X.1</dt><dd>'character'</dd><dt>Gender</dt><dd>'integer'</dd><dt>Age</dt><dd>'integer'</dd><dt>Smoking</dt><dd>'integer'</dd><dt>X.2</dt><dd>'logical'</dd><dt>X.3</dt><dd>'logical'</dd><dt>X.4</dt><dd>'character'</dd><dt>X.5</dt><dd>'character'</dd></dl>\n"
            ]
          },
          "metadata": {
            "tags": []
          }
        }
      ]
    },
    {
      "cell_type": "code",
      "metadata": {
        "colab": {
          "base_uri": "https://localhost:8080/",
          "height": 34
        },
        "id": "28NKFl0QMblo",
        "outputId": "41253f2a-58da-49e1-f2a2-56be21b97904"
      },
      "source": [
        "#3(c)\n",
        "deep2 <- deep['Age']\n",
        "fivenum(deep2$Age)    #min, lower hinge, median, upper hinge, maximum"
      ],
      "execution_count": 9,
      "outputs": [
        {
          "output_type": "display_data",
          "data": {
            "text/plain": [
              "[1] 17 31 49 64 93"
            ],
            "text/latex": "\\begin{enumerate*}\n\\item 17\n\\item 31\n\\item 49\n\\item 64\n\\item 93\n\\end{enumerate*}\n",
            "text/markdown": "1. 17\n2. 31\n3. 49\n4. 64\n5. 93\n\n\n",
            "text/html": [
              "<style>\n",
              ".list-inline {list-style: none; margin:0; padding: 0}\n",
              ".list-inline>li {display: inline-block}\n",
              ".list-inline>li:not(:last-child)::after {content: \"\\00b7\"; padding: 0 .5ex}\n",
              "</style>\n",
              "<ol class=list-inline><li>17</li><li>31</li><li>49</li><li>64</li><li>93</li></ol>\n"
            ]
          },
          "metadata": {
            "tags": []
          }
        }
      ]
    },
    {
      "cell_type": "code",
      "metadata": {
        "colab": {
          "base_uri": "https://localhost:8080/",
          "height": 34
        },
        "id": "GV6lAug0NvTI",
        "outputId": "31cadad8-7863-44e0-8f77-383681b66f85"
      },
      "source": [
        "deep2 <- deep['X.2']\n",
        "fivenum(deep2$X.2)"
      ],
      "execution_count": 10,
      "outputs": [
        {
          "output_type": "display_data",
          "data": {
            "text/plain": [
              "[1] NA NA NA NA NA"
            ],
            "text/latex": "\\begin{enumerate*}\n\\item <NA>\n\\item <NA>\n\\item <NA>\n\\item <NA>\n\\item <NA>\n\\end{enumerate*}\n",
            "text/markdown": "1. &lt;NA&gt;\n2. &lt;NA&gt;\n3. &lt;NA&gt;\n4. &lt;NA&gt;\n5. &lt;NA&gt;\n\n\n",
            "text/html": [
              "<style>\n",
              ".list-inline {list-style: none; margin:0; padding: 0}\n",
              ".list-inline>li {display: inline-block}\n",
              ".list-inline>li:not(:last-child)::after {content: \"\\00b7\"; padding: 0 .5ex}\n",
              "</style>\n",
              "<ol class=list-inline><li>&lt;NA&gt;</li><li>&lt;NA&gt;</li><li>&lt;NA&gt;</li><li>&lt;NA&gt;</li><li>&lt;NA&gt;</li></ol>\n"
            ]
          },
          "metadata": {
            "tags": []
          }
        }
      ]
    },
    {
      "cell_type": "code",
      "metadata": {
        "colab": {
          "base_uri": "https://localhost:8080/",
          "height": 34
        },
        "id": "8N0omdGfN48X",
        "outputId": "a054d7c5-c927-4dac-8139-9821002d2766"
      },
      "source": [
        "deep2 <- deep['Gender']\n",
        "fivenum(deep2$Gender)"
      ],
      "execution_count": 11,
      "outputs": [
        {
          "output_type": "display_data",
          "data": {
            "text/plain": [
              "[1] 0 0 0 1 1"
            ],
            "text/latex": "\\begin{enumerate*}\n\\item 0\n\\item 0\n\\item 0\n\\item 1\n\\item 1\n\\end{enumerate*}\n",
            "text/markdown": "1. 0\n2. 0\n3. 0\n4. 1\n5. 1\n\n\n",
            "text/html": [
              "<style>\n",
              ".list-inline {list-style: none; margin:0; padding: 0}\n",
              ".list-inline>li {display: inline-block}\n",
              ".list-inline>li:not(:last-child)::after {content: \"\\00b7\"; padding: 0 .5ex}\n",
              "</style>\n",
              "<ol class=list-inline><li>0</li><li>0</li><li>0</li><li>1</li><li>1</li></ol>\n"
            ]
          },
          "metadata": {
            "tags": []
          }
        }
      ]
    },
    {
      "cell_type": "code",
      "metadata": {
        "colab": {
          "base_uri": "https://localhost:8080/",
          "height": 34
        },
        "id": "f-somQnQOIJp",
        "outputId": "431336ea-8a8d-4637-ccde-1928945d9142"
      },
      "source": [
        "deep2 <- deep['Smoking']\n",
        "fivenum(deep2$Smoking)"
      ],
      "execution_count": 12,
      "outputs": [
        {
          "output_type": "display_data",
          "data": {
            "text/plain": [
              "[1] 1 1 2 2 3"
            ],
            "text/latex": "\\begin{enumerate*}\n\\item 1\n\\item 1\n\\item 2\n\\item 2\n\\item 3\n\\end{enumerate*}\n",
            "text/markdown": "1. 1\n2. 1\n3. 2\n4. 2\n5. 3\n\n\n",
            "text/html": [
              "<style>\n",
              ".list-inline {list-style: none; margin:0; padding: 0}\n",
              ".list-inline>li {display: inline-block}\n",
              ".list-inline>li:not(:last-child)::after {content: \"\\00b7\"; padding: 0 .5ex}\n",
              "</style>\n",
              "<ol class=list-inline><li>1</li><li>1</li><li>2</li><li>2</li><li>3</li></ol>\n"
            ]
          },
          "metadata": {
            "tags": []
          }
        }
      ]
    },
    {
      "cell_type": "code",
      "metadata": {
        "colab": {
          "base_uri": "https://localhost:8080/",
          "height": 1000
        },
        "id": "oaL4o3vUOpv6",
        "outputId": "a9570ae7-93bb-4b09-a692-81677ad85c8c"
      },
      "source": [
        "#3(d)\n",
        "New_dataset <- deep[, c('Gender', 'Smoking')]\n",
        "New_dataset"
      ],
      "execution_count": 17,
      "outputs": [
        {
          "output_type": "display_data",
          "data": {
            "text/plain": [
              "    Gender Smoking\n",
              "1   NA     NA     \n",
              "2   NA     NA     \n",
              "3    1      2     \n",
              "4    0      2     \n",
              "5    1      3     \n",
              "6    1      2     \n",
              "7    0      2     \n",
              "8    1      2     \n",
              "9    1      2     \n",
              "10   1      2     \n",
              "11   1      2     \n",
              "12   1      2     \n",
              "13   1      2     \n",
              "14   1      2     \n",
              "15   0      2     \n",
              "16   1      2     \n",
              "17   0      2     \n",
              "18   1      2     \n",
              "19   1      2     \n",
              "20   1      2     \n",
              "21   1      2     \n",
              "22   1      2     \n",
              "23   1      2     \n",
              "24   1      2     \n",
              "25   1      2     \n",
              "26   1      2     \n",
              "27   1      2     \n",
              "28   0      2     \n",
              "29   0      2     \n",
              "30   1      2     \n",
              "⋮   ⋮      ⋮      \n",
              "372 1      1      \n",
              "373 0      1      \n",
              "374 1      1      \n",
              "375 1      2      \n",
              "376 0      1      \n",
              "377 0      1      \n",
              "378 0      2      \n",
              "379 1      2      \n",
              "380 1      1      \n",
              "381 0      3      \n",
              "382 0      2      \n",
              "383 1      2      \n",
              "384 0      3      \n",
              "385 1      2      \n",
              "386 0      1      \n",
              "387 1      1      \n",
              "388 0      2      \n",
              "389 0      1      \n",
              "390 1      3      \n",
              "391 0      1      \n",
              "392 0      2      \n",
              "393 0      1      \n",
              "394 1      1      \n",
              "395 0      3      \n",
              "396 0      1      \n",
              "397 0      2      \n",
              "398 0      1      \n",
              "399 0      1      \n",
              "400 1      1      \n",
              "401 0      1      "
            ],
            "text/latex": "A data.frame: 401 × 2\n\\begin{tabular}{ll}\n Gender & Smoking\\\\\n <int> & <int>\\\\\n\\hline\n\t NA & NA\\\\\n\t NA & NA\\\\\n\t  1 &  2\\\\\n\t  0 &  2\\\\\n\t  1 &  3\\\\\n\t  1 &  2\\\\\n\t  0 &  2\\\\\n\t  1 &  2\\\\\n\t  1 &  2\\\\\n\t  1 &  2\\\\\n\t  1 &  2\\\\\n\t  1 &  2\\\\\n\t  1 &  2\\\\\n\t  1 &  2\\\\\n\t  0 &  2\\\\\n\t  1 &  2\\\\\n\t  0 &  2\\\\\n\t  1 &  2\\\\\n\t  1 &  2\\\\\n\t  1 &  2\\\\\n\t  1 &  2\\\\\n\t  1 &  2\\\\\n\t  1 &  2\\\\\n\t  1 &  2\\\\\n\t  1 &  2\\\\\n\t  1 &  2\\\\\n\t  1 &  2\\\\\n\t  0 &  2\\\\\n\t  0 &  2\\\\\n\t  1 &  2\\\\\n\t ⋮ & ⋮\\\\\n\t 1 & 1\\\\\n\t 0 & 1\\\\\n\t 1 & 1\\\\\n\t 1 & 2\\\\\n\t 0 & 1\\\\\n\t 0 & 1\\\\\n\t 0 & 2\\\\\n\t 1 & 2\\\\\n\t 1 & 1\\\\\n\t 0 & 3\\\\\n\t 0 & 2\\\\\n\t 1 & 2\\\\\n\t 0 & 3\\\\\n\t 1 & 2\\\\\n\t 0 & 1\\\\\n\t 1 & 1\\\\\n\t 0 & 2\\\\\n\t 0 & 1\\\\\n\t 1 & 3\\\\\n\t 0 & 1\\\\\n\t 0 & 2\\\\\n\t 0 & 1\\\\\n\t 1 & 1\\\\\n\t 0 & 3\\\\\n\t 0 & 1\\\\\n\t 0 & 2\\\\\n\t 0 & 1\\\\\n\t 0 & 1\\\\\n\t 1 & 1\\\\\n\t 0 & 1\\\\\n\\end{tabular}\n",
            "text/markdown": "\nA data.frame: 401 × 2\n\n| Gender &lt;int&gt; | Smoking &lt;int&gt; |\n|---|---|\n| NA | NA |\n| NA | NA |\n|  1 |  2 |\n|  0 |  2 |\n|  1 |  3 |\n|  1 |  2 |\n|  0 |  2 |\n|  1 |  2 |\n|  1 |  2 |\n|  1 |  2 |\n|  1 |  2 |\n|  1 |  2 |\n|  1 |  2 |\n|  1 |  2 |\n|  0 |  2 |\n|  1 |  2 |\n|  0 |  2 |\n|  1 |  2 |\n|  1 |  2 |\n|  1 |  2 |\n|  1 |  2 |\n|  1 |  2 |\n|  1 |  2 |\n|  1 |  2 |\n|  1 |  2 |\n|  1 |  2 |\n|  1 |  2 |\n|  0 |  2 |\n|  0 |  2 |\n|  1 |  2 |\n| ⋮ | ⋮ |\n| 1 | 1 |\n| 0 | 1 |\n| 1 | 1 |\n| 1 | 2 |\n| 0 | 1 |\n| 0 | 1 |\n| 0 | 2 |\n| 1 | 2 |\n| 1 | 1 |\n| 0 | 3 |\n| 0 | 2 |\n| 1 | 2 |\n| 0 | 3 |\n| 1 | 2 |\n| 0 | 1 |\n| 1 | 1 |\n| 0 | 2 |\n| 0 | 1 |\n| 1 | 3 |\n| 0 | 1 |\n| 0 | 2 |\n| 0 | 1 |\n| 1 | 1 |\n| 0 | 3 |\n| 0 | 1 |\n| 0 | 2 |\n| 0 | 1 |\n| 0 | 1 |\n| 1 | 1 |\n| 0 | 1 |\n\n",
            "text/html": [
              "<table class=\"dataframe\">\n",
              "<caption>A data.frame: 401 × 2</caption>\n",
              "<thead>\n",
              "\t<tr><th scope=col>Gender</th><th scope=col>Smoking</th></tr>\n",
              "\t<tr><th scope=col>&lt;int&gt;</th><th scope=col>&lt;int&gt;</th></tr>\n",
              "</thead>\n",
              "<tbody>\n",
              "\t<tr><td>NA</td><td>NA</td></tr>\n",
              "\t<tr><td>NA</td><td>NA</td></tr>\n",
              "\t<tr><td> 1</td><td> 2</td></tr>\n",
              "\t<tr><td> 0</td><td> 2</td></tr>\n",
              "\t<tr><td> 1</td><td> 3</td></tr>\n",
              "\t<tr><td> 1</td><td> 2</td></tr>\n",
              "\t<tr><td> 0</td><td> 2</td></tr>\n",
              "\t<tr><td> 1</td><td> 2</td></tr>\n",
              "\t<tr><td> 1</td><td> 2</td></tr>\n",
              "\t<tr><td> 1</td><td> 2</td></tr>\n",
              "\t<tr><td> 1</td><td> 2</td></tr>\n",
              "\t<tr><td> 1</td><td> 2</td></tr>\n",
              "\t<tr><td> 1</td><td> 2</td></tr>\n",
              "\t<tr><td> 1</td><td> 2</td></tr>\n",
              "\t<tr><td> 0</td><td> 2</td></tr>\n",
              "\t<tr><td> 1</td><td> 2</td></tr>\n",
              "\t<tr><td> 0</td><td> 2</td></tr>\n",
              "\t<tr><td> 1</td><td> 2</td></tr>\n",
              "\t<tr><td> 1</td><td> 2</td></tr>\n",
              "\t<tr><td> 1</td><td> 2</td></tr>\n",
              "\t<tr><td> 1</td><td> 2</td></tr>\n",
              "\t<tr><td> 1</td><td> 2</td></tr>\n",
              "\t<tr><td> 1</td><td> 2</td></tr>\n",
              "\t<tr><td> 1</td><td> 2</td></tr>\n",
              "\t<tr><td> 1</td><td> 2</td></tr>\n",
              "\t<tr><td> 1</td><td> 2</td></tr>\n",
              "\t<tr><td> 1</td><td> 2</td></tr>\n",
              "\t<tr><td> 0</td><td> 2</td></tr>\n",
              "\t<tr><td> 0</td><td> 2</td></tr>\n",
              "\t<tr><td> 1</td><td> 2</td></tr>\n",
              "\t<tr><td>⋮</td><td>⋮</td></tr>\n",
              "\t<tr><td>1</td><td>1</td></tr>\n",
              "\t<tr><td>0</td><td>1</td></tr>\n",
              "\t<tr><td>1</td><td>1</td></tr>\n",
              "\t<tr><td>1</td><td>2</td></tr>\n",
              "\t<tr><td>0</td><td>1</td></tr>\n",
              "\t<tr><td>0</td><td>1</td></tr>\n",
              "\t<tr><td>0</td><td>2</td></tr>\n",
              "\t<tr><td>1</td><td>2</td></tr>\n",
              "\t<tr><td>1</td><td>1</td></tr>\n",
              "\t<tr><td>0</td><td>3</td></tr>\n",
              "\t<tr><td>0</td><td>2</td></tr>\n",
              "\t<tr><td>1</td><td>2</td></tr>\n",
              "\t<tr><td>0</td><td>3</td></tr>\n",
              "\t<tr><td>1</td><td>2</td></tr>\n",
              "\t<tr><td>0</td><td>1</td></tr>\n",
              "\t<tr><td>1</td><td>1</td></tr>\n",
              "\t<tr><td>0</td><td>2</td></tr>\n",
              "\t<tr><td>0</td><td>1</td></tr>\n",
              "\t<tr><td>1</td><td>3</td></tr>\n",
              "\t<tr><td>0</td><td>1</td></tr>\n",
              "\t<tr><td>0</td><td>2</td></tr>\n",
              "\t<tr><td>0</td><td>1</td></tr>\n",
              "\t<tr><td>1</td><td>1</td></tr>\n",
              "\t<tr><td>0</td><td>3</td></tr>\n",
              "\t<tr><td>0</td><td>1</td></tr>\n",
              "\t<tr><td>0</td><td>2</td></tr>\n",
              "\t<tr><td>0</td><td>1</td></tr>\n",
              "\t<tr><td>0</td><td>1</td></tr>\n",
              "\t<tr><td>1</td><td>1</td></tr>\n",
              "\t<tr><td>0</td><td>1</td></tr>\n",
              "</tbody>\n",
              "</table>\n"
            ]
          },
          "metadata": {
            "tags": []
          }
        }
      ]
    },
    {
      "cell_type": "code",
      "metadata": {
        "colab": {
          "base_uri": "https://localhost:8080/",
          "height": 34
        },
        "id": "-Tz04O5-PNCB",
        "outputId": "a2f0017b-e6fb-49ee-d3cc-49d5cf7736f6"
      },
      "source": [
        "#3(e)\n",
        "deep3 <- deep['Age']\n",
        "sample(deep3[4:7,])"
      ],
      "execution_count": 18,
      "outputs": [
        {
          "output_type": "display_data",
          "data": {
            "text/plain": [
              "[1] 72 73 65 76"
            ],
            "text/latex": "\\begin{enumerate*}\n\\item 72\n\\item 73\n\\item 65\n\\item 76\n\\end{enumerate*}\n",
            "text/markdown": "1. 72\n2. 73\n3. 65\n4. 76\n\n\n",
            "text/html": [
              "<style>\n",
              ".list-inline {list-style: none; margin:0; padding: 0}\n",
              ".list-inline>li {display: inline-block}\n",
              ".list-inline>li:not(:last-child)::after {content: \"\\00b7\"; padding: 0 .5ex}\n",
              "</style>\n",
              "<ol class=list-inline><li>72</li><li>73</li><li>65</li><li>76</li></ol>\n"
            ]
          },
          "metadata": {
            "tags": []
          }
        }
      ]
    }
  ]
}